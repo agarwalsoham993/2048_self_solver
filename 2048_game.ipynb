{
  "cells": [
    {
      "cell_type": "markdown",
      "metadata": {
        "id": "d4w9x1MOfgsT"
      },
      "source": [
        "# Appendix\n",
        "https://en.wikipedia.org/wiki/2048_(video_game)\n",
        "https://www.geeksforgeeks.org/2048-game-in-python/"
      ]
    },
    {
      "cell_type": "markdown",
      "metadata": {
        "id": "CbrFfAVbfgsW"
      },
      "source": [
        "problem statement : https://drive.google.com/file/d/1-l9t-sKYWD_hrAAmfzJFmv2X151lMsEo/view?usp=drive_link"
      ]
    },
    {
      "cell_type": "markdown",
      "metadata": {
        "id": "ovakKI74fgsX"
      },
      "source": [
        "IMPLEMENTED GAME\n",
        "4X4 GRID (implemented as a numpy grid)\n",
        "4 switches to move all up/all down /all right /all left\n",
        "(moves with the keyboard up/l/d/r buttons)\n"
      ]
    },
    {
      "cell_type": "markdown",
      "metadata": {
        "id": "rwCH8F_MfgsX"
      },
      "source": [
        "## game user manual\n",
        "i desgned first the basic version of the game with help of the given regulations\n",
        "then i added the required moves counter to show the number of moves taken\n",
        "\n",
        "on playing i realized to add an undo feature to go back and check out other possibiities in each game\n",
        "(which works by clicking z) , and to not waste space i have ensured maximum 5 undo's\n",
        "and also escape button works as to exit the game\n",
        "\n",
        "while implementing algorithms one by one was tidous and time consuming , also made no relation to each other\n",
        "the class created for each framework , keeps the logic seperate , ease of readability and works with the following keys\n",
        "1 : approach 1\n",
        "2: approach 2\n",
        "so on , and also note that the undo feature resets the board to the point where algorithm didnt work , if used any algorithm , and space bar , helps to stop the ai working and continues the manual use of the game"
      ]
    },
    {
      "cell_type": "markdown",
      "metadata": {
        "id": "DAJX78_xfgsZ"
      },
      "source": [
        "## workflow\n",
        "![alt text](https://github.com/agarwalsoham993/quant_club/blob/main/image.png?raw=1)"
      ]
    },
    {
      "cell_type": "markdown",
      "metadata": {
        "id": "slzlpCwSfgsZ"
      },
      "source": [
        "# libraries"
      ]
    },
    {
      "cell_type": "code",
      "execution_count": 5,
      "metadata": {
        "id": "YaFRlzGZfgsa",
        "outputId": "793aced3-394e-49ed-b55f-9eaabb2782a5",
        "colab": {
          "base_uri": "https://localhost:8080/"
        }
      },
      "outputs": [
        {
          "output_type": "stream",
          "name": "stdout",
          "text": [
            "pygame 2.6.1 (SDL 2.28.4, Python 3.11.11)\n",
            "Hello from the pygame community. https://www.pygame.org/contribute.html\n"
          ]
        }
      ],
      "source": [
        "import pygame\n",
        "import random\n",
        "from math import log\n",
        "import numpy as np\n",
        "import warnings"
      ]
    },
    {
      "cell_type": "markdown",
      "metadata": {
        "id": "I7CKXwrffgsd"
      },
      "source": [
        "# scoring\n",
        "## Predictive merge score\n",
        "counts if  there is a possible merge and how many , trying to implement that , because in most of the logic i had to try to implement this same algorithm where we find the possible no of merges , this will help in creating a smoother gaming code , and we can use it any time"
      ]
    },
    {
      "cell_type": "code",
      "source": [
        "# in game2048 class\n",
        "# def calculate_merge_score(self):\n",
        "#         rows = len(self.board)\n",
        "#         cols = len(self.board[0])\n",
        "#         merge_score = 0\n",
        "\n",
        "#         # Check for possible merges horizontally\n",
        "#         for row in range(rows):\n",
        "#             for col in range(cols - 1):\n",
        "#                 if self.board[row][col] != 0 and self.board[row][col] == self.board[row][col + 1]:\n",
        "#                     merge_score += 1\n",
        "\n",
        "#         # Check for possible merges vertically\n",
        "#         for col in range(cols):\n",
        "#             for row in range(rows - 1):\n",
        "#                 if self.board[row][col] != 0 and self.board[row][col] == self.board[row + 1][col]:\n",
        "#                     merge_score += 1\n",
        "#         return merge_score"
      ],
      "metadata": {
        "id": "0D435UIArUEV"
      },
      "execution_count": 1,
      "outputs": []
    },
    {
      "cell_type": "markdown",
      "source": [
        "# game class"
      ],
      "metadata": {
        "id": "t7HgKwVbrpfX"
      }
    },
    {
      "cell_type": "code",
      "execution_count": 9,
      "metadata": {
        "id": "tbR5TBZbfgsc"
      },
      "outputs": [],
      "source": [
        "# --- Constants ---\n",
        "GRID_SIZE = 4\n",
        "TILE_SIZE = 100\n",
        "MARGIN = 10\n",
        "WIDTH = (TILE_SIZE + MARGIN) * GRID_SIZE\n",
        "HEIGHT = (TILE_SIZE + MARGIN) * GRID_SIZE + 50 #Added 50 for moves display\n",
        "FPS = 30\n",
        "algo_move_interval = 125  # seconds\n",
        "k =4  #number of algorithms\n",
        "k1 = 0.5\n",
        "k2 = 0.5\n",
        "\n",
        "# Colors\n",
        "WHITE = (255, 255, 255)\n",
        "BLACK = (0, 0, 0)\n",
        "GRAY = (200, 200, 200)\n",
        "\n",
        "TILE_COLORS = {\n",
        "    x: ((255 - 15*(log(x)/log(2))),255,(255 - 15*(log(x)/log(2)))) for x in [2, 4, 8, 16, 32, 64, 128, 256, 512, 1024, 2048]\n",
        "}\n",
        "TILE_COLORS[0] = GRAY  # Gray for empty tiles\n"
      ]
    },
    {
      "cell_type": "code",
      "execution_count": 10,
      "metadata": {
        "id": "lPrILwTffgsc"
      },
      "outputs": [],
      "source": [
        "class Game2048:\n",
        "    def __init__(self, size=GRID_SIZE):\n",
        "        self.size = size\n",
        "        self.board = np.zeros((self.size, self.size), dtype=int)\n",
        "        self.moves = 0\n",
        "        self.add_new_tile()\n",
        "        self.add_new_tile()\n",
        "        self.game_over = False\n",
        "        self.has_won = False\n",
        "        self.merge_count = 0  # Count of merges made during the game\n",
        "        self.score = 0  # Score of the game\n",
        "\n",
        "        self.history = History(self)\n",
        "\n",
        "        self.algo_on = False\n",
        "        self.algorithm = None  # algorithm object (set later)\n",
        "\n",
        "        # dictionary of approaches\n",
        "\n",
        "        self.approaches = {i: globals()[f\"approach{i+1}\"] for i in range(k)}\n",
        "\n",
        "        self.algo_keys = [getattr(pygame, f\"K_{i}\") for i in range(1, k + 1)]  # List of keys for approaches\n",
        "\n",
        "        self.algo_index = 0  # Start with the first approach\n",
        "\n",
        "    def add_new_tile(self):\n",
        "        empty_cells = np.argwhere(self.board == 0)\n",
        "        if empty_cells.size > 0:\n",
        "            i, j = random.choice(empty_cells)\n",
        "            self.board[i, j] = 2 if random.random() < 0.9 else 4\n",
        "\n",
        "    def transpose(self):\n",
        "        self.board = np.transpose(self.board)\n",
        "\n",
        "    def reverse(self):\n",
        "        for i in range(self.size):\n",
        "            self.board[i] = np.flip(self.board[i])\n",
        "\n",
        "    def slide(self, row):\n",
        "        row = row[row != 0]\n",
        "        return np.pad(row, (0, self.size - len(row)), 'constant')\n",
        "\n",
        "    def merge(self, row):\n",
        "        row = row.copy()\n",
        "        i = 0\n",
        "        while i < self.size - 1:\n",
        "            if row[i] == row[i + 1] and row[i] != 0:\n",
        "                self.merge_count += 1\n",
        "                row[i] *= 2\n",
        "                row[i + 1] = 0\n",
        "                i += 1\n",
        "            i += 1\n",
        "        return row\n",
        "\n",
        "    def move_left(self):\n",
        "        moved = False\n",
        "        old_board = np.copy(self.board)\n",
        "        for i in range(self.size):\n",
        "            original_row = self.board[i].copy()\n",
        "            row = self.slide(original_row)\n",
        "            row = self.merge(row)\n",
        "            row = self.slide(row)\n",
        "            if not np.array_equal(row, original_row):\n",
        "                moved = True\n",
        "            self.board[i] = row\n",
        "        if not moved:\n",
        "            self.board = old_board\n",
        "        return moved\n",
        "\n",
        "    def move_right(self):\n",
        "        old_board = np.copy(self.board)\n",
        "        self.reverse()\n",
        "        moved = self.move_left()\n",
        "        self.reverse()\n",
        "        if not moved:\n",
        "            self.board = old_board\n",
        "        return moved\n",
        "\n",
        "    def move_up(self):\n",
        "        old_board = np.copy(self.board)\n",
        "        self.transpose()\n",
        "        moved = self.move_left()\n",
        "        self.transpose()\n",
        "        if not moved:\n",
        "            self.board = old_board\n",
        "        return moved\n",
        "\n",
        "    def move_down(self):\n",
        "        old_board = np.copy(self.board)\n",
        "        self.transpose()\n",
        "        moved = self.move_right()\n",
        "        self.transpose()\n",
        "        if not moved:\n",
        "            self.board = old_board\n",
        "        return moved\n",
        "\n",
        "    def is_game_over(self):\n",
        "        for i in range(self.size):\n",
        "            for j in range(self.size):\n",
        "                if self.board[i][j] == 0:\n",
        "                    return False\n",
        "                if i < self.size - 1 and self.board[i][j] == self.board[i + 1][j]:\n",
        "                    return False\n",
        "                if j < self.size - 1 and self.board[i][j] == self.board[i][j + 1]:\n",
        "                    return False\n",
        "        return True\n",
        "\n",
        "    def check_win(self):\n",
        "        return np.any(self.board == 2048)\n",
        "\n",
        "    def calculate_merge_score(self):\n",
        "        rows = len(self.board)\n",
        "        cols = len(self.board[0])\n",
        "        merge_score = 0\n",
        "\n",
        "        # predict for possible merges horizontally\n",
        "        for row in range(rows):\n",
        "            for col in range(cols - 1):\n",
        "                if self.board[row][col] != 0 and self.board[row][col] == self.board[row][col + 1]:\n",
        "                    merge_score += 1\n",
        "\n",
        "        # predict for possible merges vertically\n",
        "        for col in range(cols):\n",
        "            for row in range(rows - 1):\n",
        "                if self.board[row][col] != 0 and self.board[row][col] == self.board[row + 1][col]:\n",
        "                    merge_score += 1\n",
        "        return merge_score\n",
        "\n",
        "\n",
        "    def input(self, key):\n",
        "        old_board = self.board.copy()\n",
        "\n",
        "        if key == pygame.K_UP:\n",
        "            moved = self.move_up()\n",
        "\n",
        "        elif key == pygame.K_DOWN:\n",
        "            moved = self.move_down()\n",
        "\n",
        "        elif key == pygame.K_LEFT:\n",
        "            moved = self.move_left()\n",
        "\n",
        "        elif key == pygame.K_RIGHT:\n",
        "            moved = self.move_right()\n",
        "        else:\n",
        "            moved = False\n",
        "\n",
        "        if not np.array_equal(old_board, self.board):\n",
        "            self.moves += 1\n",
        "            self.add_new_tile()\n",
        "\n",
        "            pms_score = self.calculate_merge_score()\n",
        "            self.score += pms_score\n",
        "\n",
        "            if self.algo_on == False:                   # to avoid saving while we have algorithm on , to reset board only once\n",
        "                self.history.save_state()\n",
        "\n",
        "            if self.is_game_over():\n",
        "                self.game_over = True\n",
        "            if self.check_win():\n",
        "                self.has_won = True"
      ]
    },
    {
      "cell_type": "markdown",
      "source": [],
      "metadata": {
        "id": "meAPX8W1rEKv"
      }
    },
    {
      "cell_type": "markdown",
      "metadata": {
        "id": "D4sLQDxQfgse"
      },
      "source": [
        "# algorithms\n",
        "i am creating a general structured framework of class which can be followed to give out the required set of output move , so as to reach the end , i am trying many different ( even most general approach up can be mathematically derived )\n",
        "\n",
        "but general basic idea remains to\n",
        "#### Develop a strategy that minimizes the number of moves required to reach the 2048 tile.\n",
        "Consider heuristics such as prioritizing merges, maintaining a structured board, or maximizing high-value tile placement."
      ]
    },
    {
      "cell_type": "markdown",
      "metadata": {
        "id": "w0afvEXOfgse"
      },
      "source": [
        "approach 1:\n",
        " calculate the sum of all the number in the grid for each of the four move and then compare bigger and take that step\n",
        " if two have same sum , then compare for max of (sum of next operations ) and then taking that step"
      ]
    },
    {
      "cell_type": "code",
      "execution_count": 11,
      "metadata": {
        "id": "MLgVfIaDfgse"
      },
      "outputs": [],
      "source": [
        "class approach1:\n",
        "    def __init__(self, game):\n",
        "        self.game = game\n",
        "\n",
        "    def calculate_board_sum(self, board):\n",
        "        return np.sum(board)\n",
        "\n",
        "    def choose_best_move(self):\n",
        "        best_move = None\n",
        "        best_sum = -1\n",
        "        original_board = self.game.board.copy()\n",
        "\n",
        "        for move in [pygame.K_UP, pygame.K_DOWN, pygame.K_LEFT, pygame.K_RIGHT]:\n",
        "            simulated_board = self.game.board.copy()\n",
        "\n",
        "            if move == pygame.K_UP:\n",
        "                moved = self.game.move_up()\n",
        "            elif move == pygame.K_DOWN:\n",
        "                moved = self.game.move_down()\n",
        "            elif move == pygame.K_LEFT:\n",
        "                moved = self.game.move_left()\n",
        "            elif move == pygame.K_RIGHT:\n",
        "                moved = self.game.move_right()\n",
        "            else:\n",
        "                moved = False\n",
        "\n",
        "            if moved:\n",
        "                current_sum = self.calculate_board_sum(self.game.board)\n",
        "                if current_sum > best_sum:\n",
        "                    best_sum = current_sum\n",
        "                    best_move = move\n",
        "\n",
        "            self.game.board = simulated_board  # Reset board to original\n",
        "\n",
        "        return best_move\n"
      ]
    },
    {
      "cell_type": "markdown",
      "metadata": {
        "id": "t0eO1_Rnfgse"
      },
      "source": [
        "approach 2\n",
        "to go for the next move such that the next step has the highest number (focuses on the merging)"
      ]
    },
    {
      "cell_type": "code",
      "execution_count": 12,
      "metadata": {
        "id": "oOXnpQuXfgse"
      },
      "outputs": [],
      "source": [
        "class approach2:\n",
        "    def __init__(self, game):\n",
        "        self.game = game\n",
        "\n",
        "    def calculate_max_tile(self, board):\n",
        "        return np.max(board)\n",
        "\n",
        "    def choose_best_move(self):\n",
        "        best_move = None\n",
        "        best_max_tile = -1\n",
        "        original_board = self.game.board.copy()\n",
        "\n",
        "        for move in [pygame.K_UP, pygame.K_DOWN, pygame.K_LEFT, pygame.K_RIGHT]:\n",
        "            simulated_board = self.game.board.copy()\n",
        "\n",
        "            if move == pygame.K_UP:\n",
        "                moved = self.game.move_up()\n",
        "            elif move == pygame.K_DOWN:\n",
        "                moved = self.game.move_down()\n",
        "            elif move == pygame.K_LEFT:\n",
        "                moved = self.game.move_left()\n",
        "            elif move == pygame.K_RIGHT:\n",
        "                moved = self.game.move_right()\n",
        "            else:\n",
        "                moved = False\n",
        "\n",
        "            if moved:\n",
        "                current_max_tile = self.calculate_max_tile(self.game.board)\n",
        "                if current_max_tile > best_max_tile:\n",
        "                    best_max_tile = current_max_tile\n",
        "                    best_move = move\n",
        "\n",
        "            self.game.board = simulated_board\n",
        "\n",
        "        return best_move\n"
      ]
    },
    {
      "cell_type": "markdown",
      "metadata": {
        "id": "nHC5Y3yLfgsf"
      },
      "source": [
        "approach 3 : maximizing numbers of empty spaces in the board ( indirectly focusing on merging)"
      ]
    },
    {
      "cell_type": "code",
      "execution_count": 13,
      "metadata": {
        "id": "YuaW5r9Afgsf"
      },
      "outputs": [],
      "source": [
        "class approach3:\n",
        "\n",
        "    def __init__(self, game):\n",
        "        self.game = game\n",
        "\n",
        "    def calculate_empty_cells(self, board):\n",
        "        return np.sum(board == 0)\n",
        "\n",
        "    def choose_best_move(self):\n",
        "        best_move = None\n",
        "        best_empty_count = -1\n",
        "        original_board = self.game.board.copy()\n",
        "\n",
        "        for move in [pygame.K_UP, pygame.K_DOWN, pygame.K_LEFT, pygame.K_RIGHT]:\n",
        "            simulated_board = self.game.board.copy()\n",
        "\n",
        "            if move == pygame.K_UP:\n",
        "                moved = self.game.move_up()\n",
        "            elif move == pygame.K_DOWN:\n",
        "                moved = self.game.move_down()\n",
        "            elif move == pygame.K_LEFT:\n",
        "                moved = self.game.move_left()\n",
        "            elif move == pygame.K_RIGHT:\n",
        "                moved = self.game.move_right()\n",
        "            else:\n",
        "                moved = False\n",
        "\n",
        "            if moved:\n",
        "                current_empty_count = self.calculate_empty_cells(self.game.board)\n",
        "                if current_empty_count > best_empty_count:\n",
        "                    best_empty_count = current_empty_count\n",
        "                    best_move = move\n",
        "\n",
        "            self.game.board = simulated_board\n",
        "\n",
        "        return best_move\n"
      ]
    },
    {
      "cell_type": "markdown",
      "metadata": {
        "id": "OLTRA9DRfgsf"
      },
      "source": [
        "approach 4 : direct approach for maximizing the number of merges , for this i had to add a merge counter in the base framework of game2046 , which leads to use of merge count to maximize the number of merges taking place by that move during simulation"
      ]
    },
    {
      "cell_type": "code",
      "execution_count": 14,
      "metadata": {
        "id": "3YPCeKmLfgsg"
      },
      "outputs": [],
      "source": [
        "class approach4:\n",
        "    def __init__(self, game):\n",
        "        self.game = game\n",
        "\n",
        "    def calculate_merge_count(self, board_before, board_after):\n",
        "        non_zero_before = np.count_nonzero(board_before)\n",
        "        non_zero_after = np.count_nonzero(board_after)\n",
        "        return non_zero_before - non_zero_after\n",
        "\n",
        "    def choose_best_move(self):\n",
        "        best_move = None\n",
        "        max_merge_count = -1\n",
        "        original_board = self.game.board.copy()\n",
        "\n",
        "        for move in [pygame.K_UP, pygame.K_DOWN, pygame.K_LEFT, pygame.K_RIGHT]:\n",
        "            simulated_board_before = self.game.board.copy()\n",
        "\n",
        "            if move == pygame.K_UP:\n",
        "                moved = self.game.move_up()\n",
        "            elif move == pygame.K_DOWN:\n",
        "                moved = self.game.move_down()\n",
        "            elif move == pygame.K_LEFT:\n",
        "                moved = self.game.move_left()\n",
        "            elif move == pygame.K_RIGHT:\n",
        "                moved = self.game.move_right()\n",
        "            else:\n",
        "                moved = False\n",
        "\n",
        "            if moved:\n",
        "                simulated_board_after = self.game.board.copy()\n",
        "                merge_count = self.calculate_merge_count(simulated_board_before, simulated_board_after)\n",
        "\n",
        "                if merge_count > max_merge_count:\n",
        "                    max_merge_count = merge_count\n",
        "                    best_move = move\n",
        "\n",
        "            self.game.board = original_board.copy()\n",
        "\n",
        "        return best_move\n"
      ]
    },
    {
      "cell_type": "markdown",
      "metadata": {
        "id": "wqfs-MKpfgsg"
      },
      "source": [
        "## undo feature"
      ]
    },
    {
      "cell_type": "code",
      "execution_count": 15,
      "metadata": {
        "id": "Z7COchu-fgsg"
      },
      "outputs": [],
      "source": [
        "class History:\n",
        "    def __init__(self, game):\n",
        "        self.game = game\n",
        "        self.states = []\n",
        "        self.algo_board_saved = False\n",
        "\n",
        "    def save_state(self):\n",
        "        self.states.append((np.copy(self.game.board), self.game.moves))\n",
        "        if len(self.states) > 5:\n",
        "            self.states.pop(0)\n",
        "\n",
        "    def save_pre_algo(self):\n",
        "        if not self.algo_board_saved:\n",
        "            self.save_state()\n",
        "            self.algo_board_saved = True\n",
        "\n",
        "    def undo(self):\n",
        "        if self.states:\n",
        "            self.game.board, self.game.moves = self.states.pop()\n",
        "            self.game.game_over = False\n",
        "            self.game.has_won = False\n",
        "            self.algo_board_saved = False\n"
      ]
    },
    {
      "cell_type": "markdown",
      "metadata": {
        "id": "8NjcosOKfgsh"
      },
      "source": [
        "# pygame"
      ]
    },
    {
      "cell_type": "code",
      "execution_count": 16,
      "metadata": {
        "id": "CUkxT41ofgsh"
      },
      "outputs": [],
      "source": [
        "pygame.init()\n",
        "screen = pygame.display.set_mode((WIDTH, HEIGHT))\n",
        "pygame.display.set_caption(\"2048\")\n",
        "clock = pygame.time.Clock()\n",
        "font = pygame.font.Font(None, 40)\n",
        "large_font = pygame.font.Font(None, 80)\n",
        "\n",
        "game = Game2048()\n",
        "game.algorithm = game.approaches[game.algo_index](game)\n",
        "running = True\n",
        "algo_move_timer = 0\n",
        "\n",
        "warnings.filterwarnings(\"ignore\")"
      ]
    },
    {
      "cell_type": "code",
      "execution_count": null,
      "metadata": {
        "id": "mVX5-FTkfgsi",
        "outputId": "c38c9642-f17a-484b-ef73-2d912b202ac0"
      },
      "outputs": [
        {
          "ename": "KeyboardInterrupt",
          "evalue": "",
          "output_type": "error",
          "traceback": [
            "\u001b[31m---------------------------------------------------------------------------\u001b[39m",
            "\u001b[31mKeyboardInterrupt\u001b[39m                         Traceback (most recent call last)",
            "\u001b[36mCell\u001b[39m\u001b[36m \u001b[39m\u001b[32mIn[15]\u001b[39m\u001b[32m, line 2\u001b[39m\n\u001b[32m      1\u001b[39m \u001b[38;5;28;01mwhile\u001b[39;00m running:\n\u001b[32m----> \u001b[39m\u001b[32m2\u001b[39m     \u001b[43mclock\u001b[49m\u001b[43m.\u001b[49m\u001b[43mtick\u001b[49m\u001b[43m(\u001b[49m\u001b[43mFPS\u001b[49m\u001b[43m)\u001b[49m\n\u001b[32m      3\u001b[39m     \u001b[38;5;66;03m#user input interaction\u001b[39;00m\n\u001b[32m      4\u001b[39m     \u001b[38;5;28;01mfor\u001b[39;00m event \u001b[38;5;129;01min\u001b[39;00m pygame.event.get():\n",
            "\u001b[31mKeyboardInterrupt\u001b[39m: "
          ]
        }
      ],
      "source": [
        "while running:\n",
        "    clock.tick(FPS)\n",
        "    #user input interaction\n",
        "    for event in pygame.event.get():\n",
        "        if event.type == pygame.QUIT:\n",
        "            running = False\n",
        "        if event.type == pygame.KEYDOWN:\n",
        "            if game.has_won:\n",
        "                running = False\n",
        "\n",
        "            elif event.key in game.algo_keys:\n",
        "                if not game.history.algo_board_saved:\n",
        "                    game.history.save_pre_algo()\n",
        "\n",
        "                game.algo_index = game.algo_keys.index(event.key)\n",
        "                game.algorithm = game.approaches[game.algo_index](game)\n",
        "                game.algo_on = True\n",
        "\n",
        "            elif event.key == pygame.K_ESCAPE:\n",
        "                running = False\n",
        "\n",
        "            elif event.key == pygame.K_SPACE:\n",
        "                game.algo_on = False\n",
        "            elif event.key == pygame.K_z:\n",
        "                game.history.undo()\n",
        "            else:\n",
        "                game.input(event.key)\n",
        "\n",
        "    if game.algo_on and not (game.game_over or game.has_won) and game.algorithm:\n",
        "        current_time = pygame.time.get_ticks()\n",
        "        if current_time - algo_move_timer > algo_move_interval:\n",
        "            algo_move_timer = current_time\n",
        "            best_move = game.algorithm.choose_best_move()\n",
        "            if best_move:\n",
        "                game.input(best_move)\n",
        "\n",
        "    screen.fill(WHITE)\n",
        "\n",
        "    for i in range(GRID_SIZE):\n",
        "        for j in range(GRID_SIZE):\n",
        "            value = game.board[i][j]\n",
        "            color = TILE_COLORS.get(value, GRAY)\n",
        "            rect = pygame.Rect(j * (TILE_SIZE + MARGIN) + MARGIN,\n",
        "                               i * (TILE_SIZE + MARGIN) + MARGIN,\n",
        "                               TILE_SIZE, TILE_SIZE)\n",
        "            pygame.draw.rect(screen, color, rect)\n",
        "            if value != 0:\n",
        "                text = font.render(str(value), True, BLACK)\n",
        "                text_rect = text.get_rect(center=rect.center)\n",
        "                screen.blit(text, text_rect)\n",
        "\n",
        "    moves_text = font.render(f\"Moves: {game.moves}\", True, BLACK)\n",
        "    moves_rect = moves_text.get_rect(center=(WIDTH // 4, HEIGHT - 25))\n",
        "    screen.blit(moves_text, moves_rect)\n",
        "\n",
        "    approach_print = font.render(f\"Approach {game.algo_index + 1}\" if game.algo_on else \"MANUAL\", True, BLACK)\n",
        "    algo_place = approach_print.get_rect(center=(3*WIDTH // 4, HEIGHT - 25))\n",
        "    screen.blit(approach_print, algo_place)\n",
        "\n",
        "    if game.game_over:\n",
        "        game_over_text = font.render(\"Game Over!\", True, BLACK)\n",
        "        game_over_rect = game_over_text.get_rect(center=(WIDTH // 2, HEIGHT // 2))\n",
        "        screen.blit(game_over_text, game_over_rect)\n",
        "\n",
        "    if game.has_won:\n",
        "        win_text = large_font.render(\"You Win!\", True, BLACK)\n",
        "        win_rect = win_text.get_rect(center=(WIDTH // 2, HEIGHT // 2))\n",
        "        screen.blit(win_text, win_rect)\n",
        "\n",
        "    pygame.display.flip()\n",
        "\n",
        "pygame.quit()\n"
      ]
    },
    {
      "cell_type": "markdown",
      "metadata": {
        "id": "edfUYhAtfgsj"
      },
      "source": [
        "# EFFECIENCY METRIC"
      ]
    },
    {
      "cell_type": "code",
      "execution_count": 17,
      "metadata": {
        "id": "ZPHPqJNTfgsj"
      },
      "outputs": [],
      "source": [
        "import matplotlib.pyplot as plt\n",
        "import pandas as pd\n",
        "import seaborn as sns"
      ]
    },
    {
      "cell_type": "markdown",
      "metadata": {
        "id": "-yK-YrSafgsj"
      },
      "source": [
        "## metric 1\n",
        "Calculate the highest tile obtained in n runs\n",
        "Calculate the average of max_no of merges carried out"
      ]
    },
    {
      "cell_type": "code",
      "execution_count": 18,
      "metadata": {
        "id": "ISzPEcoafgsj"
      },
      "outputs": [],
      "source": [
        "def max_tile(approach_idx, num_iterations=10):\n",
        "    '''no of approach {1,2,3..},no of iterations = default 10 '''\n",
        "    max_tile = []\n",
        "\n",
        "    for x in range(num_iterations):\n",
        "        game = Game2048()\n",
        "        approach = game.approaches[approach_idx-1](game)\n",
        "\n",
        "        while not game.game_over:\n",
        "            best_move = approach.choose_best_move()\n",
        "            if best_move:\n",
        "                game.input(best_move)\n",
        "        max_tile.append(np.max(game.board))\n",
        "\n",
        "    return max_tile\n"
      ]
    },
    {
      "cell_type": "code",
      "source": [
        "tr1 = max_tile(1)\n",
        "print(tr1)"
      ],
      "metadata": {
        "id": "mU1sCHRb2GlT",
        "outputId": "4771a4a5-52e2-4ec2-a87f-6359caabd540",
        "colab": {
          "base_uri": "https://localhost:8080/"
        }
      },
      "execution_count": 20,
      "outputs": [
        {
          "output_type": "stream",
          "name": "stdout",
          "text": [
            "[np.int64(64), np.int64(128), np.int64(32), np.int64(128), np.int64(64), np.int64(128), np.int64(64), np.int64(64), np.int64(128), np.int64(64)]\n"
          ]
        }
      ]
    },
    {
      "cell_type": "markdown",
      "source": [
        "calculate the highest score reached in each operation"
      ],
      "metadata": {
        "id": "haO0Hz-bzv9A"
      }
    },
    {
      "cell_type": "code",
      "source": [
        "def max_score(approach_idx, num_iterations=10):\n",
        "    '''no of approach {1,2,3..},no of iterations = default 10 '''\n",
        "\n",
        "    scores = []\n",
        "\n",
        "    for x in range(num_iterations):\n",
        "        game = Game2048()\n",
        "        approach = game.approaches[approach_idx-1](game)\n",
        "\n",
        "        while not game.game_over:\n",
        "            best_move = approach.choose_best_move()\n",
        "            if best_move:\n",
        "                game.input(best_move)\n",
        "\n",
        "            if game.has_won:\n",
        "                scores.append(-1)\n",
        "                break\n",
        "\n",
        "        if not game.has_won:\n",
        "            scores.append(game.score)\n",
        "\n",
        "    return scores\n"
      ],
      "metadata": {
        "id": "d1fyvqdPz1HB"
      },
      "execution_count": 22,
      "outputs": []
    },
    {
      "cell_type": "code",
      "source": [
        "tr2 = max_score(1)\n",
        "print(tr2)"
      ],
      "metadata": {
        "id": "BaTalkWv23jM",
        "outputId": "6513f5fd-dcde-464a-f4e7-1c52638db8d9",
        "colab": {
          "base_uri": "https://localhost:8080/"
        }
      },
      "execution_count": 23,
      "outputs": [
        {
          "output_type": "stream",
          "name": "stdout",
          "text": [
            "[184, 86, 363, 114, 149, 213, 242, 273, 110, 465]\n"
          ]
        }
      ]
    },
    {
      "cell_type": "markdown",
      "source": [
        "lets combine them to reduce time complexity"
      ],
      "metadata": {
        "id": "Dg9rsYB2z94F"
      }
    },
    {
      "cell_type": "code",
      "source": [
        "def effeciency(approach_idx, num_iterations=10):\n",
        "    max_scores = []\n",
        "    max_tile = []\n",
        "\n",
        "    for x in range(num_iterations):\n",
        "        game = Game2048()\n",
        "        approach = game.approaches[approach_idx-1](game)\n",
        "\n",
        "        while not game.game_over:\n",
        "            best_move = approach.choose_best_move()\n",
        "\n",
        "            if best_move:\n",
        "                game.input(best_move)\n",
        "\n",
        "            if game.has_won:\n",
        "                max_scores.append(-1)\n",
        "                break\n",
        "\n",
        "        max_tile.append(int(np.max(game.board)))\n",
        "\n",
        "        if not game.has_won:\n",
        "            max_scores.append(game.score)\n",
        "\n",
        "    idx1 = [c for c in range(num_iterations) if max_scores[c]==max(max_scores)]\n",
        "    idx2 = [a for a in range(num_iterations) if max_tile[a]== max(max_tile)]\n",
        "\n",
        "    return max(max_scores), max(max_tile) , idx1 , idx2"
      ],
      "metadata": {
        "id": "MscuNloy0DWn"
      },
      "execution_count": 36,
      "outputs": []
    },
    {
      "cell_type": "code",
      "source": [
        "t3 = effeciency(1)\n",
        "t3"
      ],
      "metadata": {
        "id": "JKIkglQ229xM",
        "outputId": "54242494-344e-4cb3-d2f0-4f3158bf399a",
        "colab": {
          "base_uri": "https://localhost:8080/"
        }
      },
      "execution_count": 38,
      "outputs": [
        {
          "output_type": "execute_result",
          "data": {
            "text/plain": [
              "(408, 128, [3], [3, 6, 7])"
            ]
          },
          "metadata": {},
          "execution_count": 38
        }
      ]
    },
    {
      "cell_type": "code",
      "source": [
        "# for each 10 iterations it takes around 1sec\n"
      ],
      "metadata": {
        "id": "NJgIR-Bu3DQ2"
      },
      "execution_count": null,
      "outputs": []
    },
    {
      "cell_type": "markdown",
      "source": [
        "![Screenshot 2025-04-02 013759.png](data:image/png;base64,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)"
      ],
      "metadata": {
        "id": "F1cCPFfD-LYa"
      }
    }
  ],
  "metadata": {
    "kernelspec": {
      "display_name": "Python 3",
      "language": "python",
      "name": "python3"
    },
    "language_info": {
      "codemirror_mode": {
        "name": "ipython",
        "version": 3
      },
      "file_extension": ".py",
      "mimetype": "text/x-python",
      "name": "python",
      "nbconvert_exporter": "python",
      "pygments_lexer": "ipython3",
      "version": "3.12.1"
    },
    "colab": {
      "provenance": []
    }
  },
  "nbformat": 4,
  "nbformat_minor": 0
}