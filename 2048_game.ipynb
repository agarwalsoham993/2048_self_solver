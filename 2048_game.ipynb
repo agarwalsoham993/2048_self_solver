{
  "cells": [
    {
      "cell_type": "markdown",
      "metadata": {
        "id": "d4w9x1MOfgsT"
      },
      "source": [
        "# Appendix\n",
        "https://en.wikipedia.org/wiki/2048_(video_game)\n",
        "https://www.geeksforgeeks.org/2048-game-in-python/"
      ]
    },
    {
      "cell_type": "markdown",
      "metadata": {
        "id": "CbrFfAVbfgsW"
      },
      "source": [
        "problem statement : https://drive.google.com/file/d/1-l9t-sKYWD_hrAAmfzJFmv2X151lMsEo/view?usp=drive_link"
      ]
    },
    {
      "cell_type": "markdown",
      "metadata": {
        "id": "ovakKI74fgsX"
      },
      "source": [
        "IMPLEMENTED GAME\n",
        "4X4 GRID (implemented as a numpy grid)\n",
        "4 switches to move all up/all down /all right /all left\n",
        "(moves with the keyboard up/l/d/r buttons)\n"
      ]
    },
    {
      "cell_type": "markdown",
      "metadata": {
        "id": "rwCH8F_MfgsX"
      },
      "source": [
        "## game user manual\n",
        "i desgned first the basic version of the game with help of the given regulations\n",
        "then i added the required moves counter to show the number of moves taken\n",
        "\n",
        "on playing i realized to add an undo feature to go back and check out other possibiities in each game\n",
        "(which works by clicking z) , and to not waste space i have ensured maximum 5 undo's\n",
        "and also escape button works as to exit the game\n",
        "\n",
        "while implementing algorithms one by one was tidous and time consuming , also made no relation to each other\n",
        "the class created for each framework , keeps the logic seperate , ease of readability and works with the following keys\n",
        "1 : approach 1\n",
        "2: approach 2\n",
        "so on , and also note that the undo feature resets the board to the point where algorithm didnt work , if used any algorithm , and space bar , helps to stop the ai working and continues the manual use of the game"
      ]
    },
    {
      "cell_type": "markdown",
      "metadata": {
        "id": "DAJX78_xfgsZ"
      },
      "source": [
        "## workflow\n",
        "![alt text](https://github.com/agarwalsoham993/quant_club/blob/main/image.png?raw=1)"
      ]
    },
    {
      "cell_type": "markdown",
      "metadata": {
        "id": "slzlpCwSfgsZ"
      },
      "source": [
        "# libraries"
      ]
    },
    {
      "cell_type": "code",
      "execution_count": null,
      "metadata": {
        "id": "YaFRlzGZfgsa",
        "outputId": "793aced3-394e-49ed-b55f-9eaabb2782a5",
        "colab": {
          "base_uri": "https://localhost:8080/"
        }
      },
      "outputs": [
        {
          "output_type": "stream",
          "name": "stdout",
          "text": [
            "pygame 2.6.1 (SDL 2.28.4, Python 3.11.11)\n",
            "Hello from the pygame community. https://www.pygame.org/contribute.html\n"
          ]
        }
      ],
      "source": [
        "import pygame\n",
        "import random\n",
        "from math import log\n",
        "import numpy as np\n",
        "import warnings"
      ]
    },
    {
      "cell_type": "markdown",
      "metadata": {
        "id": "I7CKXwrffgsd"
      },
      "source": [
        "# scoring\n",
        "## Predictive merge score\n",
        "counts if  there is a possible merge and how many , trying to implement that , because in most of the logic i had to try to implement this same algorithm where we find the possible no of merges , this will help in creating a smoother gaming code , and we can use it any time"
      ]
    },
    {
      "cell_type": "code",
      "source": [
        "# in game2048 class\n",
        "# def calculate_merge_score(self):\n",
        "#         rows = len(self.board)\n",
        "#         cols = len(self.board[0])\n",
        "#         merge_score = 0\n",
        "\n",
        "#         # Check for possible merges horizontally\n",
        "#         for row in range(rows):\n",
        "#             for col in range(cols - 1):\n",
        "#                 if self.board[row][col] != 0 and self.board[row][col] == self.board[row][col + 1]:\n",
        "#                     merge_score += 1\n",
        "\n",
        "#         # Check for possible merges vertically\n",
        "#         for col in range(cols):\n",
        "#             for row in range(rows - 1):\n",
        "#                 if self.board[row][col] != 0 and self.board[row][col] == self.board[row + 1][col]:\n",
        "#                     merge_score += 1\n",
        "#         return merge_score"
      ],
      "metadata": {
        "id": "0D435UIArUEV"
      },
      "execution_count": null,
      "outputs": []
    },
    {
      "cell_type": "markdown",
      "source": [
        "# game class"
      ],
      "metadata": {
        "id": "t7HgKwVbrpfX"
      }
    },
    {
      "cell_type": "code",
      "execution_count": null,
      "metadata": {
        "id": "tbR5TBZbfgsc"
      },
      "outputs": [],
      "source": [
        "# --- Constants ---\n",
        "GRID_SIZE = 4\n",
        "TILE_SIZE = 100\n",
        "MARGIN = 10\n",
        "WIDTH = (TILE_SIZE + MARGIN) * GRID_SIZE\n",
        "HEIGHT = (TILE_SIZE + MARGIN) * GRID_SIZE + 50 #Added 50 for moves display\n",
        "FPS = 30\n",
        "algo_move_interval = 125  # seconds\n",
        "k =4  #number of algorithms\n",
        "k1 = 0.5\n",
        "k2 = 0.5\n",
        "\n",
        "# Colors\n",
        "WHITE = (255, 255, 255)\n",
        "BLACK = (0, 0, 0)\n",
        "GRAY = (200, 200, 200)\n",
        "\n",
        "TILE_COLORS = {\n",
        "    x: ((255 - 15*(log(x)/log(2))),255,(255 - 15*(log(x)/log(2)))) for x in [2, 4, 8, 16, 32, 64, 128, 256, 512, 1024, 2048]\n",
        "}\n",
        "TILE_COLORS[0] = GRAY  # Gray for empty tiles\n"
      ]
    },
    {
      "cell_type": "code",
      "execution_count": null,
      "metadata": {
        "id": "lPrILwTffgsc"
      },
      "outputs": [],
      "source": [
        "class Game2048:\n",
        "    def __init__(self, size=GRID_SIZE):\n",
        "        self.size = size\n",
        "        self.board = np.zeros((self.size, self.size), dtype=int)\n",
        "        self.moves = 0\n",
        "        self.add_new_tile()\n",
        "        self.add_new_tile()\n",
        "        self.game_over = False\n",
        "        self.has_won = False\n",
        "        self.merge_count = 0  # Count of merges made during the game\n",
        "        self.score = 0  # Score of the game\n",
        "\n",
        "        self.history = History(self)\n",
        "\n",
        "        self.algo_on = False\n",
        "        self.algorithm = None  # algorithm object (set later)\n",
        "\n",
        "        # dictionary of approaches\n",
        "\n",
        "        self.approaches = {i: globals()[f\"approach{i+1}\"] for i in range(k)}\n",
        "\n",
        "        self.algo_keys = [getattr(pygame, f\"K_{i}\") for i in range(1, k + 1)]  # List of keys for approaches\n",
        "\n",
        "        self.algo_index = 0  # Start with the first approach\n",
        "\n",
        "    def add_new_tile(self):\n",
        "        empty_cells = np.argwhere(self.board == 0)\n",
        "        if empty_cells.size > 0:\n",
        "            i, j = random.choice(empty_cells)\n",
        "            self.board[i, j] = 2 if random.random() < 0.9 else 4\n",
        "\n",
        "    def transpose(self):\n",
        "        self.board = np.transpose(self.board)\n",
        "\n",
        "    def reverse(self):\n",
        "        for i in range(self.size):\n",
        "            self.board[i] = np.flip(self.board[i])\n",
        "\n",
        "    def slide(self, row):\n",
        "        row = row[row != 0]\n",
        "        return np.pad(row, (0, self.size - len(row)), 'constant')\n",
        "\n",
        "    def merge(self, row):\n",
        "        row = row.copy()\n",
        "        i = 0\n",
        "        while i < self.size - 1:\n",
        "            if row[i] == row[i + 1] and row[i] != 0:\n",
        "                self.merge_count += 1\n",
        "                row[i] *= 2\n",
        "                row[i + 1] = 0\n",
        "                i += 1\n",
        "            i += 1\n",
        "        return row\n",
        "\n",
        "    def move_left(self):\n",
        "        moved = False\n",
        "        old_board = np.copy(self.board)\n",
        "        for i in range(self.size):\n",
        "            original_row = self.board[i].copy()\n",
        "            row = self.slide(original_row)\n",
        "            row = self.merge(row)\n",
        "            row = self.slide(row)\n",
        "            if not np.array_equal(row, original_row):\n",
        "                moved = True\n",
        "            self.board[i] = row\n",
        "        if not moved:\n",
        "            self.board = old_board\n",
        "        return moved\n",
        "\n",
        "    def move_right(self):\n",
        "        old_board = np.copy(self.board)\n",
        "        self.reverse()\n",
        "        moved = self.move_left()\n",
        "        self.reverse()\n",
        "        if not moved:\n",
        "            self.board = old_board\n",
        "        return moved\n",
        "\n",
        "    def move_up(self):\n",
        "        old_board = np.copy(self.board)\n",
        "        self.transpose()\n",
        "        moved = self.move_left()\n",
        "        self.transpose()\n",
        "        if not moved:\n",
        "            self.board = old_board\n",
        "        return moved\n",
        "\n",
        "    def move_down(self):\n",
        "        old_board = np.copy(self.board)\n",
        "        self.transpose()\n",
        "        moved = self.move_right()\n",
        "        self.transpose()\n",
        "        if not moved:\n",
        "            self.board = old_board\n",
        "        return moved\n",
        "\n",
        "    def is_game_over(self):\n",
        "        for i in range(self.size):\n",
        "            for j in range(self.size):\n",
        "                if self.board[i][j] == 0:\n",
        "                    return False\n",
        "                if i < self.size - 1 and self.board[i][j] == self.board[i + 1][j]:\n",
        "                    return False\n",
        "                if j < self.size - 1 and self.board[i][j] == self.board[i][j + 1]:\n",
        "                    return False\n",
        "        return True\n",
        "\n",
        "    def check_win(self):\n",
        "        return np.any(self.board == 2048)\n",
        "\n",
        "    def calculate_merge_score(self):\n",
        "        rows = len(self.board)\n",
        "        cols = len(self.board[0])\n",
        "        merge_score = 0\n",
        "\n",
        "        # predict for possible merges horizontally\n",
        "        for row in range(rows):\n",
        "            for col in range(cols - 1):\n",
        "                if self.board[row][col] != 0 and self.board[row][col] == self.board[row][col + 1]:\n",
        "                    merge_score += 1\n",
        "\n",
        "        # predict for possible merges vertically\n",
        "        for col in range(cols):\n",
        "            for row in range(rows - 1):\n",
        "                if self.board[row][col] != 0 and self.board[row][col] == self.board[row + 1][col]:\n",
        "                    merge_score += 1\n",
        "        return merge_score\n",
        "\n",
        "\n",
        "    def input(self, key):\n",
        "        old_board = self.board.copy()\n",
        "\n",
        "        if key == pygame.K_UP:\n",
        "            moved = self.move_up()\n",
        "\n",
        "        elif key == pygame.K_DOWN:\n",
        "            moved = self.move_down()\n",
        "\n",
        "        elif key == pygame.K_LEFT:\n",
        "            moved = self.move_left()\n",
        "\n",
        "        elif key == pygame.K_RIGHT:\n",
        "            moved = self.move_right()\n",
        "        else:\n",
        "            moved = False\n",
        "\n",
        "        if not np.array_equal(old_board, self.board):\n",
        "            self.moves += 1\n",
        "            self.add_new_tile()\n",
        "\n",
        "            pms_score = self.calculate_merge_score()\n",
        "            self.score += pms_score\n",
        "\n",
        "            if self.algo_on == False:                   # to avoid saving while we have algorithm on , to reset board only once\n",
        "                self.history.save_state()\n",
        "\n",
        "            if self.is_game_over():\n",
        "                self.game_over = True\n",
        "            if self.check_win():\n",
        "                self.has_won = True"
      ]
    },
    {
      "cell_type": "markdown",
      "source": [],
      "metadata": {
        "id": "meAPX8W1rEKv"
      }
    },
    {
      "cell_type": "markdown",
      "metadata": {
        "id": "D4sLQDxQfgse"
      },
      "source": [
        "# algorithms\n",
        "i am creating a general structured framework of class which can be followed to give out the required set of output move , so as to reach the end , i am trying many different ( even most general approach up can be mathematically derived )\n",
        "\n",
        "but general basic idea remains to\n",
        "#### Develop a strategy that minimizes the number of moves required to reach the 2048 tile.\n",
        "Consider heuristics such as prioritizing merges, maintaining a structured board, or maximizing high-value tile placement."
      ]
    },
    {
      "cell_type": "markdown",
      "metadata": {
        "id": "w0afvEXOfgse"
      },
      "source": [
        "approach 1:\n",
        " calculate the sum of all the number in the grid for each of the four move and then compare bigger and take that step\n",
        " if two have same sum , then compare for max of (sum of next operations ) and then taking that step"
      ]
    },
    {
      "cell_type": "code",
      "execution_count": null,
      "metadata": {
        "id": "MLgVfIaDfgse"
      },
      "outputs": [],
      "source": [
        "class approach1:\n",
        "    def __init__(self, game):\n",
        "        self.game = game\n",
        "\n",
        "    def calculate_board_sum(self, board):\n",
        "        return np.sum(board)\n",
        "\n",
        "    def choose_best_move(self):\n",
        "        best_move = None\n",
        "        best_sum = -1\n",
        "        original_board = self.game.board.copy()\n",
        "\n",
        "        for move in [pygame.K_UP, pygame.K_DOWN, pygame.K_LEFT, pygame.K_RIGHT]:\n",
        "            simulated_board = self.game.board.copy()\n",
        "\n",
        "            if move == pygame.K_UP:\n",
        "                moved = self.game.move_up()\n",
        "            elif move == pygame.K_DOWN:\n",
        "                moved = self.game.move_down()\n",
        "            elif move == pygame.K_LEFT:\n",
        "                moved = self.game.move_left()\n",
        "            elif move == pygame.K_RIGHT:\n",
        "                moved = self.game.move_right()\n",
        "            else:\n",
        "                moved = False\n",
        "\n",
        "            if moved:\n",
        "                current_sum = self.calculate_board_sum(self.game.board)\n",
        "                if current_sum > best_sum:\n",
        "                    best_sum = current_sum\n",
        "                    best_move = move\n",
        "\n",
        "            self.game.board = simulated_board  # Reset board to original\n",
        "\n",
        "        return best_move\n"
      ]
    },
    {
      "cell_type": "markdown",
      "metadata": {
        "id": "t0eO1_Rnfgse"
      },
      "source": [
        "approach 2\n",
        "to go for the next move such that the next step has the highest number (focuses on the merging)"
      ]
    },
    {
      "cell_type": "code",
      "execution_count": null,
      "metadata": {
        "id": "oOXnpQuXfgse"
      },
      "outputs": [],
      "source": [
        "class approach2:\n",
        "    def __init__(self, game):\n",
        "        self.game = game\n",
        "\n",
        "    def calculate_max_tile(self, board):\n",
        "        return np.max(board)\n",
        "\n",
        "    def choose_best_move(self):\n",
        "        best_move = None\n",
        "        best_max_tile = -1\n",
        "        original_board = self.game.board.copy()\n",
        "\n",
        "        for move in [pygame.K_UP, pygame.K_DOWN, pygame.K_LEFT, pygame.K_RIGHT]:\n",
        "            simulated_board = self.game.board.copy()\n",
        "\n",
        "            if move == pygame.K_UP:\n",
        "                moved = self.game.move_up()\n",
        "            elif move == pygame.K_DOWN:\n",
        "                moved = self.game.move_down()\n",
        "            elif move == pygame.K_LEFT:\n",
        "                moved = self.game.move_left()\n",
        "            elif move == pygame.K_RIGHT:\n",
        "                moved = self.game.move_right()\n",
        "            else:\n",
        "                moved = False\n",
        "\n",
        "            if moved:\n",
        "                current_max_tile = self.calculate_max_tile(self.game.board)\n",
        "                if current_max_tile > best_max_tile:\n",
        "                    best_max_tile = current_max_tile\n",
        "                    best_move = move\n",
        "\n",
        "            self.game.board = simulated_board\n",
        "\n",
        "        return best_move\n"
      ]
    },
    {
      "cell_type": "markdown",
      "metadata": {
        "id": "nHC5Y3yLfgsf"
      },
      "source": [
        "approach 3 : maximizing numbers of empty spaces in the board ( indirectly focusing on merging)"
      ]
    },
    {
      "cell_type": "code",
      "execution_count": null,
      "metadata": {
        "id": "YuaW5r9Afgsf"
      },
      "outputs": [],
      "source": [
        "class approach3:\n",
        "\n",
        "    def __init__(self, game):\n",
        "        self.game = game\n",
        "\n",
        "    def calculate_empty_cells(self, board):\n",
        "        return np.sum(board == 0)\n",
        "\n",
        "    def choose_best_move(self):\n",
        "        best_move = None\n",
        "        best_empty_count = -1\n",
        "        original_board = self.game.board.copy()\n",
        "\n",
        "        for move in [pygame.K_UP, pygame.K_DOWN, pygame.K_LEFT, pygame.K_RIGHT]:\n",
        "            simulated_board = self.game.board.copy()\n",
        "\n",
        "            if move == pygame.K_UP:\n",
        "                moved = self.game.move_up()\n",
        "            elif move == pygame.K_DOWN:\n",
        "                moved = self.game.move_down()\n",
        "            elif move == pygame.K_LEFT:\n",
        "                moved = self.game.move_left()\n",
        "            elif move == pygame.K_RIGHT:\n",
        "                moved = self.game.move_right()\n",
        "            else:\n",
        "                moved = False\n",
        "\n",
        "            if moved:\n",
        "                current_empty_count = self.calculate_empty_cells(self.game.board)\n",
        "                if current_empty_count > best_empty_count:\n",
        "                    best_empty_count = current_empty_count\n",
        "                    best_move = move\n",
        "\n",
        "            self.game.board = simulated_board\n",
        "\n",
        "        return best_move\n"
      ]
    },
    {
      "cell_type": "markdown",
      "metadata": {
        "id": "OLTRA9DRfgsf"
      },
      "source": [
        "approach 4 : direct approach for maximizing the number of merges , for this i had to add a merge counter in the base framework of game2046 , which leads to use of merge count to maximize the number of merges taking place by that move during simulation"
      ]
    },
    {
      "cell_type": "code",
      "execution_count": null,
      "metadata": {
        "id": "3YPCeKmLfgsg"
      },
      "outputs": [],
      "source": [
        "class approach4:\n",
        "    def __init__(self, game):\n",
        "        self.game = game\n",
        "\n",
        "    def calculate_merge_count(self, board_before, board_after):\n",
        "        non_zero_before = np.count_nonzero(board_before)\n",
        "        non_zero_after = np.count_nonzero(board_after)\n",
        "        return non_zero_before - non_zero_after\n",
        "\n",
        "    def choose_best_move(self):\n",
        "        best_move = None\n",
        "        max_merge_count = -1\n",
        "        original_board = self.game.board.copy()\n",
        "\n",
        "        for move in [pygame.K_UP, pygame.K_DOWN, pygame.K_LEFT, pygame.K_RIGHT]:\n",
        "            simulated_board_before = self.game.board.copy()\n",
        "\n",
        "            if move == pygame.K_UP:\n",
        "                moved = self.game.move_up()\n",
        "            elif move == pygame.K_DOWN:\n",
        "                moved = self.game.move_down()\n",
        "            elif move == pygame.K_LEFT:\n",
        "                moved = self.game.move_left()\n",
        "            elif move == pygame.K_RIGHT:\n",
        "                moved = self.game.move_right()\n",
        "            else:\n",
        "                moved = False\n",
        "\n",
        "            if moved:\n",
        "                simulated_board_after = self.game.board.copy()\n",
        "                merge_count = self.calculate_merge_count(simulated_board_before, simulated_board_after)\n",
        "\n",
        "                if merge_count > max_merge_count:\n",
        "                    max_merge_count = merge_count\n",
        "                    best_move = move\n",
        "\n",
        "            self.game.board = original_board.copy()\n",
        "\n",
        "        return best_move\n"
      ]
    },
    {
      "cell_type": "markdown",
      "source": [
        "approach 5 : weighted places for priority + higher merging + biasing column merging than row merging"
      ],
      "metadata": {
        "id": "vcxO_vrcpB5T"
      }
    },
    {
      "cell_type": "code",
      "source": [
        "class approach5:\n",
        "    def __init__(self, game):\n",
        "        self.game = game\n",
        "\n",
        "    def calculate_weighted_sum(self, board):\n",
        "        weights = np.array([\n",
        "            [16, 8, 4, 2],\n",
        "            [8, 4, 2, 1],\n",
        "            [4, 2, 1, 0],\n",
        "            [2, 1, 0, 0]\n",
        "        ])\n",
        "        return np.sum(board * weights)\n",
        "\n",
        "    def score(self, board):\n",
        "        merging_score = 0\n",
        "        for i in range(self.game.size):\n",
        "            for j in range(self.game.size - 1):\n",
        "                if board[i][j] == board[i][j + 1]:  # Horizontal merge\n",
        "                    value = board[i][j]\n",
        "                    try:\n",
        "                        power = log(value)/log(2)\n",
        "                    except Exception as e :\n",
        "                        power = 0\n",
        "                    merging_score += board[i][j]*power\n",
        "\n",
        "                if board[j][i] == board[j + 1][i]:  # Vertical merge\n",
        "                    # value = board[i][j]\n",
        "                    # try:\n",
        "                    #     power = log(value)/log(2)\n",
        "                    # except Exception as e :\n",
        "                    #     power = 0\n",
        "                    merging_score += board[i][j]\n",
        "        return merging_score\n",
        "\n",
        "    def choose_best_move(self):\n",
        "        best_move = None\n",
        "        best_score = -1\n",
        "        original_board = self.game.board.copy()\n",
        "\n",
        "        for move in [pygame.K_UP, pygame.K_DOWN, pygame.K_LEFT, pygame.K_RIGHT]:\n",
        "            simulated_board = self.game.board.copy()\n",
        "\n",
        "            if move == pygame.K_UP:\n",
        "                moved = self.game.move_up()\n",
        "            elif move == pygame.K_DOWN:\n",
        "                moved = self.game.move_down()\n",
        "            elif move == pygame.K_LEFT:\n",
        "                moved = self.game.move_left()\n",
        "            elif move == pygame.K_RIGHT:\n",
        "                moved = self.game.move_right()\n",
        "            else:\n",
        "                moved = False\n",
        "\n",
        "            if moved:\n",
        "                weighted_sum = self.calculate_weighted_sum(self.game.board)\n",
        "                merging_potential = self.score(self.game.board)\n",
        "                current_score = weighted_sum + merging_potential\n",
        "\n",
        "                if current_score > best_score:\n",
        "                    best_score = current_score\n",
        "                    best_move = move\n",
        "\n",
        "            self.game.board = simulated_board\n",
        "\n",
        "        return best_move\n"
      ],
      "metadata": {
        "id": "RTy7FCRLoyme"
      },
      "execution_count": null,
      "outputs": []
    },
    {
      "cell_type": "markdown",
      "source": [
        "Approach 6 : Minimax Algorithm"
      ],
      "metadata": {
        "id": "vOnJ0lYzo1vD"
      }
    },
    {
      "cell_type": "code",
      "source": [
        "class approach6:\n",
        "    \"\"\"\n",
        "    Uses the Minimax algorithm to choose the best move.\n",
        "    Treats the game as turn-based: Player (Maximizer) vs Computer Tile Placement (Minimizer).\n",
        "    \"\"\"\n",
        "    def __init__(self, game, search_depth=3):\n",
        "        self.game = game\n",
        "        self.search_depth = search_depth\n",
        "\n",
        "    def calculate_weighted_sum(self, board):\n",
        "        weights = np.array([\n",
        "            [2**15, 2**12, 2**8, 2**4],\n",
        "            [2**12, 2**8, 2**4, 2**2],\n",
        "            [2**8, 2**4, 2**2, 0],\n",
        "            [2**4, 2**2, 0, 0]\n",
        "        ])\n",
        "        return np.sum(board * weights)\n",
        "\n",
        "    def evaluate_board(self, board):\n",
        "        empty_tiles = np.count_nonzero(board == 0)\n",
        "        empty_bonus = math.log(empty_tiles + 1) * 200\n",
        "        weighted_score = self.calculate_weighted_sum(board)\n",
        "\n",
        "        smoothness_penalty = 0\n",
        "        log_board = np.log2(board + (board == 0))\n",
        "        for i in range(self.game.size):\n",
        "            for j in range(self.game.size):\n",
        "                if board[i, j] != 0:\n",
        "                    if j + 1 < self.game.size and board[i, j+1] != 0:\n",
        "                        smoothness_penalty += abs(log_board[i, j] - log_board[i, j+1])\n",
        "                    if i + 1 < self.game.size and board[i+1, j] != 0:\n",
        "                        smoothness_penalty += abs(log_board[i, j] - log_board[i+1, j])\n",
        "\n",
        "        smoothness_bonus = -smoothness_penalty * 10\n",
        "        total_score = weighted_score + empty_bonus + smoothness_bonus\n",
        "        return total_score if total_score > -float('inf') else 0\n",
        "\n",
        "    def get_empty_cells(self, board):\n",
        "        cells = np.argwhere(board == 0)\n",
        "        return [tuple(cell) for cell in cells]\n",
        "\n",
        "    def minimax(self, board, depth, is_maximizing_player):\n",
        "        if depth == 0:\n",
        "            return self.evaluate_board(board)\n",
        "\n",
        "        if is_maximizing_player:\n",
        "            best_value = -float('inf')\n",
        "            moved_possible = False\n",
        "            for move in [pygame.K_UP, pygame.K_DOWN, pygame.K_LEFT, pygame.K_RIGHT]:\n",
        "                simulated_board, moved = self._simulate_player_move(board, move)\n",
        "                if moved:\n",
        "                    moved_possible = True\n",
        "                    value = self.minimax(simulated_board, depth - 1, False)\n",
        "                    best_value = max(best_value, value)\n",
        "            if not moved_possible:\n",
        "                return self.evaluate_board(board)\n",
        "            return best_value\n",
        "        else:\n",
        "            worst_value = float('inf')\n",
        "            empty_cells = self.get_empty_cells(board)\n",
        "            if not empty_cells:\n",
        "                return self.evaluate_board(board)\n",
        "            possible_outcomes = []\n",
        "            for r, c in empty_cells:\n",
        "                board_with_2 = board.copy()\n",
        "                board_with_2[r, c] = 2\n",
        "                value_2 = self.minimax(board_with_2, depth - 1, True)\n",
        "                possible_outcomes.append(value_2)\n",
        "            if not possible_outcomes:\n",
        "                return self.evaluate_board(board)\n",
        "            worst_value = min(possible_outcomes)\n",
        "            return worst_value\n",
        "\n",
        "    def choose_best_move(self):\n",
        "        best_move = None\n",
        "        best_score = -float('inf')\n",
        "        current_board = self.game.board.copy()\n",
        "        for move in [pygame.K_UP, pygame.K_DOWN, pygame.K_LEFT, pygame.K_RIGHT]:\n",
        "            simulated_board, moved = self._simulate_player_move(current_board, move)\n",
        "            if moved:\n",
        "                move_score = self.minimax(simulated_board, self.search_depth, False)\n",
        "                if move_score > best_score:\n",
        "                    best_score = move_score\n",
        "                    best_move = move\n",
        "        if best_move is None:\n",
        "            for move in [pygame.K_UP, pygame.K_DOWN, pygame.K_LEFT, pygame.K_RIGHT]:\n",
        "                _, moved = self._simulate_player_move(current_board, move)\n",
        "                if moved:\n",
        "                    return move\n",
        "        return best_move\n",
        "\n",
        "    def _simulate_player_move(self, board_state, move):\n",
        "        original_game_board = self.game.board.copy()\n",
        "        self.game.board = board_state.copy()\n",
        "        moved = False\n",
        "        try:\n",
        "            if move == pygame.K_UP: moved = self.game.move_up()\n",
        "            elif move == pygame.K_DOWN: moved = self.game.move_down()\n",
        "            elif move == pygame.K_LEFT: moved = self.game.move_left()\n",
        "            elif move == pygame.K_RIGHT: moved = self.game.move_right()\n",
        "            simulated_result_board = self.game.board.copy()\n",
        "        finally:\n",
        "            self.game.board = original_game_board\n",
        "        if not np.array_equal(board_state, simulated_result_board):\n",
        "            actual_moved = True\n",
        "        else:\n",
        "            actual_moved = False\n",
        "        if not actual_moved:\n",
        "            moved = False\n",
        "            simulated_result_board = board_state\n",
        "        return simulated_result_board, moved\n"
      ],
      "metadata": {
        "id": "dPjJdmp7otWw"
      },
      "execution_count": null,
      "outputs": []
    },
    {
      "cell_type": "markdown",
      "metadata": {
        "id": "wqfs-MKpfgsg"
      },
      "source": [
        "## undo feature"
      ]
    },
    {
      "cell_type": "code",
      "execution_count": null,
      "metadata": {
        "id": "Z7COchu-fgsg"
      },
      "outputs": [],
      "source": [
        "class History:\n",
        "    def __init__(self, game):\n",
        "        self.game = game\n",
        "        self.states = []\n",
        "        self.algo_board_saved = False\n",
        "\n",
        "    def save_state(self):\n",
        "        self.states.append((np.copy(self.game.board), self.game.moves))\n",
        "        if len(self.states) > 5:\n",
        "            self.states.pop(0)\n",
        "\n",
        "    def save_pre_algo(self):\n",
        "        if not self.algo_board_saved:\n",
        "            self.save_state()\n",
        "            self.algo_board_saved = True\n",
        "\n",
        "    def undo(self):\n",
        "        if self.states:\n",
        "            self.game.board, self.game.moves = self.states.pop()\n",
        "            self.game.game_over = False\n",
        "            self.game.has_won = False\n",
        "            self.algo_board_saved = False\n"
      ]
    },
    {
      "cell_type": "markdown",
      "metadata": {
        "id": "8NjcosOKfgsh"
      },
      "source": [
        "# pygame"
      ]
    },
    {
      "cell_type": "code",
      "execution_count": null,
      "metadata": {
        "id": "CUkxT41ofgsh"
      },
      "outputs": [],
      "source": [
        "pygame.init()\n",
        "screen = pygame.display.set_mode((WIDTH, HEIGHT))\n",
        "pygame.display.set_caption(\"2048\")\n",
        "clock = pygame.time.Clock()\n",
        "font = pygame.font.Font(None, 40)\n",
        "large_font = pygame.font.Font(None, 80)\n",
        "\n",
        "game = Game2048()\n",
        "game.algorithm = game.approaches[game.algo_index](game)\n",
        "running = True\n",
        "algo_move_timer = 0\n",
        "\n",
        "warnings.filterwarnings(\"ignore\")"
      ]
    },
    {
      "cell_type": "code",
      "execution_count": null,
      "metadata": {
        "id": "mVX5-FTkfgsi",
        "outputId": "c38c9642-f17a-484b-ef73-2d912b202ac0"
      },
      "outputs": [
        {
          "ename": "KeyboardInterrupt",
          "evalue": "",
          "output_type": "error",
          "traceback": [
            "\u001b[31m---------------------------------------------------------------------------\u001b[39m",
            "\u001b[31mKeyboardInterrupt\u001b[39m                         Traceback (most recent call last)",
            "\u001b[36mCell\u001b[39m\u001b[36m \u001b[39m\u001b[32mIn[15]\u001b[39m\u001b[32m, line 2\u001b[39m\n\u001b[32m      1\u001b[39m \u001b[38;5;28;01mwhile\u001b[39;00m running:\n\u001b[32m----> \u001b[39m\u001b[32m2\u001b[39m     \u001b[43mclock\u001b[49m\u001b[43m.\u001b[49m\u001b[43mtick\u001b[49m\u001b[43m(\u001b[49m\u001b[43mFPS\u001b[49m\u001b[43m)\u001b[49m\n\u001b[32m      3\u001b[39m     \u001b[38;5;66;03m#user input interaction\u001b[39;00m\n\u001b[32m      4\u001b[39m     \u001b[38;5;28;01mfor\u001b[39;00m event \u001b[38;5;129;01min\u001b[39;00m pygame.event.get():\n",
            "\u001b[31mKeyboardInterrupt\u001b[39m: "
          ]
        }
      ],
      "source": [
        "while running:\n",
        "    clock.tick(FPS)\n",
        "    #user input interaction\n",
        "    for event in pygame.event.get():\n",
        "        if event.type == pygame.QUIT:\n",
        "            running = False\n",
        "        if event.type == pygame.KEYDOWN:\n",
        "            if game.has_won:\n",
        "                running = False\n",
        "\n",
        "            elif event.key in game.algo_keys:\n",
        "                if not game.history.algo_board_saved:\n",
        "                    game.history.save_pre_algo()\n",
        "\n",
        "                game.algo_index = game.algo_keys.index(event.key)\n",
        "                game.algorithm = game.approaches[game.algo_index](game)\n",
        "                game.algo_on = True\n",
        "\n",
        "            elif event.key == pygame.K_ESCAPE:\n",
        "                running = False\n",
        "\n",
        "            elif event.key == pygame.K_SPACE:\n",
        "                game.algo_on = False\n",
        "            elif event.key == pygame.K_z:\n",
        "                game.history.undo()\n",
        "            else:\n",
        "                game.input(event.key)\n",
        "\n",
        "    if game.algo_on and not (game.game_over or game.has_won) and game.algorithm:\n",
        "        current_time = pygame.time.get_ticks()\n",
        "        if current_time - algo_move_timer > algo_move_interval:\n",
        "            algo_move_timer = current_time\n",
        "            best_move = game.algorithm.choose_best_move()\n",
        "            if best_move:\n",
        "                game.input(best_move)\n",
        "\n",
        "    screen.fill(WHITE)\n",
        "\n",
        "    for i in range(GRID_SIZE):\n",
        "        for j in range(GRID_SIZE):\n",
        "            value = game.board[i][j]\n",
        "            color = TILE_COLORS.get(value, GRAY)\n",
        "            rect = pygame.Rect(j * (TILE_SIZE + MARGIN) + MARGIN,\n",
        "                               i * (TILE_SIZE + MARGIN) + MARGIN,\n",
        "                               TILE_SIZE, TILE_SIZE)\n",
        "            pygame.draw.rect(screen, color, rect)\n",
        "            if value != 0:\n",
        "                text = font.render(str(value), True, BLACK)\n",
        "                text_rect = text.get_rect(center=rect.center)\n",
        "                screen.blit(text, text_rect)\n",
        "\n",
        "    moves_text = font.render(f\"Moves: {game.moves}\", True, BLACK)\n",
        "    moves_rect = moves_text.get_rect(center=(WIDTH // 4, HEIGHT - 25))\n",
        "    screen.blit(moves_text, moves_rect)\n",
        "\n",
        "    approach_print = font.render(f\"Approach {game.algo_index + 1}\" if game.algo_on else \"MANUAL\", True, BLACK)\n",
        "    algo_place = approach_print.get_rect(center=(3*WIDTH // 4, HEIGHT - 25))\n",
        "    screen.blit(approach_print, algo_place)\n",
        "\n",
        "    if game.game_over:\n",
        "        game_over_text = font.render(\"Game Over!\", True, BLACK)\n",
        "        game_over_rect = game_over_text.get_rect(center=(WIDTH // 2, HEIGHT // 2))\n",
        "        screen.blit(game_over_text, game_over_rect)\n",
        "\n",
        "    if game.has_won:\n",
        "        win_text = large_font.render(\"You Win!\", True, BLACK)\n",
        "        win_rect = win_text.get_rect(center=(WIDTH // 2, HEIGHT // 2))\n",
        "        screen.blit(win_text, win_rect)\n",
        "\n",
        "    pygame.display.flip()\n",
        "\n",
        "pygame.quit()\n"
      ]
    },
    {
      "cell_type": "markdown",
      "metadata": {
        "id": "edfUYhAtfgsj"
      },
      "source": [
        "# EFFECIENCY METRIC"
      ]
    },
    {
      "cell_type": "code",
      "execution_count": null,
      "metadata": {
        "id": "ZPHPqJNTfgsj"
      },
      "outputs": [],
      "source": [
        "import matplotlib.pyplot as plt\n",
        "import pandas as pd\n",
        "import seaborn as sns"
      ]
    },
    {
      "cell_type": "code",
      "source": [
        "def results(approach_idx, n=10):\n",
        "    tiles = []\n",
        "    moves = []\n",
        "    win_count = 0\n",
        "\n",
        "    for _ in range(n):\n",
        "        game = Game2048()\n",
        "        approach = game.approaches[approach_idx - 1](game)\n",
        "\n",
        "        while not game.game_over:\n",
        "            best_move = approach.choose_best_move()\n",
        "            if best_move:\n",
        "                game.input(best_move)\n",
        "            if game.has_won:\n",
        "                win_count += 1\n",
        "                break\n",
        "\n",
        "        tiles.append(int(np.max(game.board)))\n",
        "        moves.append(game.moves)\n",
        "\n",
        "    if tiles:\n",
        "        max_tile = max(tiles)\n",
        "        min_moves = min(moves[i] for i in range(n) if tiles[i] == max_tile)\n",
        "    else:\n",
        "        max_tile = 0\n",
        "        min_moves = 0\n",
        "\n",
        "    return min_moves, max_tile, win_count"
      ],
      "metadata": {
        "id": "bukNAwDynnor"
      },
      "execution_count": null,
      "outputs": []
    },
    {
      "cell_type": "code",
      "source": [
        "data = pd.DataFrame(columns=['Approach', 'Moves', 'Max Tile', 'Win Count'])\n",
        "for i in range(4, k + 1):\n",
        "    min_move, max_tile, win_count = results(i, n=10)  # Adjust the number of iterations as needed\n",
        "    data.loc[len(data)] = {'Approach': i, 'Moves': min_move, 'Max Tile': max_tile, 'Win Count': win_count}\n",
        "\n",
        "data\n"
      ],
      "metadata": {
        "id": "_tveMcbLnwWG"
      },
      "execution_count": null,
      "outputs": []
    },
    {
      "cell_type": "code",
      "source": [
        "# with different no of iterations , the min number of moves change slightly but lowest obtained is 962\n",
        "# not only the minimax algorithm but also the 5th one with weighted biasing and little tweak with merging more likely\n",
        "# in columns , makes the algorithm faster and also obtain good results"
      ],
      "metadata": {
        "id": "yFlAl2z3nzsc"
      },
      "execution_count": null,
      "outputs": []
    },
    {
      "cell_type": "code",
      "source": [
        "# with different no of iterations , the min number of moves change slightly but lowest obtained is 962\n",
        "# not only the minimax algorithm but also the 5th one with weighted biasing and little tweak with merging more likely\n",
        "# in columns , makes the algorithm faster and also obtain good results"
      ],
      "metadata": {
        "id": "rkLT0ByKn2lB"
      },
      "execution_count": null,
      "outputs": []
    },
    {
      "cell_type": "code",
      "source": [
        "plt.figure(figsize=(10, 6))\n",
        "plt.plot(data['Approach'], data['Moves'], marker='o', label='Moves')\n",
        "plt.plot(data['Approach'], data['Max Tile'], marker='o', label='Max Tile')\n",
        "plt.bar(data['Approach'], data['Win Count']*400, label='Win Count', alpha=0.5)\n",
        "plt.xlabel('Approach')\n",
        "plt.ylabel('Value')\n",
        "plt.title('Performance of Different Approaches')\n",
        "\n",
        "plt.xticks(data['Approach'])\n",
        "plt.legend()"
      ],
      "metadata": {
        "id": "y6sf1rqon4WW"
      },
      "execution_count": null,
      "outputs": []
    },
    {
      "cell_type": "code",
      "source": [],
      "metadata": {
        "id": "znZCO6qGofOY"
      },
      "execution_count": null,
      "outputs": []
    }
  ],
  "metadata": {
    "kernelspec": {
      "display_name": "Python 3",
      "language": "python",
      "name": "python3"
    },
    "language_info": {
      "codemirror_mode": {
        "name": "ipython",
        "version": 3
      },
      "file_extension": ".py",
      "mimetype": "text/x-python",
      "name": "python",
      "nbconvert_exporter": "python",
      "pygments_lexer": "ipython3",
      "version": "3.12.1"
    },
    "colab": {
      "provenance": []
    }
  },
  "nbformat": 4,
  "nbformat_minor": 0
}